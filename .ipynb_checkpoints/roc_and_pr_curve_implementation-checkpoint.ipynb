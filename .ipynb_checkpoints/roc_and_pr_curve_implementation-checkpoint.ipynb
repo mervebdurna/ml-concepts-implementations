{
 "cells": [
  {
   "cell_type": "markdown",
   "id": "d0d7e789",
   "metadata": {},
   "source": [
    "In this notebook I will implement ROC Curve & PR Curve with synthetic dataset.\n",
    "\n",
    "1. ROC Curve\n",
    "2. PR (Precision Recall) Curve"
   ]
  },
  {
   "cell_type": "markdown",
   "id": "46353274",
   "metadata": {},
   "source": [
    "# 1. ROC Curve\n",
    "\n",
    "* AUC (Area Under The Curve)\n",
    "* ROC (Receiver Operating Characteristics)\n",
    "\n",
    "AUC - ROC curve is a performance measurement for the binary classification problems at various threshold settings.\n",
    "\n",
    "The ROC curve is plotted with TPR against the FPR where TPR is on the y-axis and FPR is on the x-axis.\n",
    "\n",
    "* TPR(recall/sensitivity) = TP/(TP+FN) -- True positive rate(comes from Confusion Matrix)\n",
    "\n",
    "* FPR(1-specificity) = FP/(FP+TN) -- False positive rate(comes from Confusion Matrix)\n",
    "\n",
    "* A good article about ROC-AUC : https://towardsdatascience.com/understanding-auc-roc-curve-68b2303cc9c5\n",
    "\n",
    "* A good article about PR-AUC :\n",
    "https://machinelearningmastery.com/roc-curves-and-precision-recall-curves-for-imbalanced-classification/\n",
    "\n",
    "* A good article to find best threshold for ROC Curve and PR Curve : \n",
    "https://machinelearningmastery.com/threshold-moving-for-imbalanced-classification/\n",
    "\n",
    "Note :For very imbalance dataset ROC Curve can mislead , instead we can use PR Curve.\n"
   ]
  },
  {
   "cell_type": "code",
   "execution_count": 106,
   "id": "b505c7ed",
   "metadata": {},
   "outputs": [],
   "source": [
    "# Import Librarires\n",
    "import numpy as np\n",
    "import pandas as pd \n",
    "import matplotlib.pyplot as plt\n",
    "%matplotlib inline\n",
    "from sklearn.datasets import make_classification # to create syntethic dataset\n",
    "from sklearn.model_selection import train_test_split\n",
    "from sklearn.linear_model import LogisticRegression\n",
    "# ROC-AUC\n",
    "from sklearn.metrics import roc_curve\n",
    "from sklearn.metrics import roc_auc_score\n",
    "from sklearn.metrics import RocCurveDisplay\n",
    "# PR-AUC\n",
    "from sklearn.metrics import precision_recall_curve\n",
    "from sklearn.metrics import PrecisionRecallDisplay"
   ]
  },
  {
   "cell_type": "code",
   "execution_count": 108,
   "id": "3c5b98cf",
   "metadata": {},
   "outputs": [],
   "source": [
    "X,y = make_classification(n_samples = 2000 ,n_features=10, n_classes=2,weights=[1,1])"
   ]
  },
  {
   "cell_type": "code",
   "execution_count": 109,
   "id": "4f518b24",
   "metadata": {
    "scrolled": true
   },
   "outputs": [
    {
     "data": {
      "text/plain": [
       "(2000, 10)"
      ]
     },
     "execution_count": 109,
     "metadata": {},
     "output_type": "execute_result"
    }
   ],
   "source": [
    "X.shape"
   ]
  },
  {
   "cell_type": "code",
   "execution_count": 110,
   "id": "17c62191",
   "metadata": {},
   "outputs": [
    {
     "data": {
      "text/plain": [
       "(2000,)"
      ]
     },
     "execution_count": 110,
     "metadata": {},
     "output_type": "execute_result"
    }
   ],
   "source": [
    "y.shape"
   ]
  },
  {
   "cell_type": "code",
   "execution_count": 111,
   "id": "de15830e",
   "metadata": {},
   "outputs": [],
   "source": [
    "# train test split\n",
    "X_train, X_test, y_train,y_test = train_test_split(X,y,test_size = 0.3,random_state=11)"
   ]
  },
  {
   "cell_type": "code",
   "execution_count": 112,
   "id": "cde81269",
   "metadata": {},
   "outputs": [
    {
     "name": "stdout",
     "output_type": "stream",
     "text": [
      "Logistic regression train roc-auc: 0.9616527481856995\n",
      "Logistic regression test roc-auc: 0.9715765145117562\n"
     ]
    }
   ],
   "source": [
    "# apply logistic regression classifier\n",
    "log_model = LogisticRegression()\n",
    "log_model.fit(X_train,y_train)\n",
    "y_train_pred = log_model.predict_proba(X_train)\n",
    "print('Logistic regression train roc-auc: {}'.format(roc_auc_score(y_train, y_train_pred[:,1])))\n",
    "\n",
    "y_test_pred = log_model.predict_proba(X_test)\n",
    "print('Logistic regression test roc-auc: {}'.format(roc_auc_score(y_test, y_test_pred[:,1])))"
   ]
  },
  {
   "cell_type": "code",
   "execution_count": 113,
   "id": "1f73fe7e",
   "metadata": {},
   "outputs": [
    {
     "data": {
      "text/plain": [
       "array([[9.80714520e-01, 1.92854804e-02],\n",
       "       [9.82313372e-01, 1.76866278e-02],\n",
       "       [1.59799287e-02, 9.84020071e-01],\n",
       "       ...,\n",
       "       [8.38105052e-01, 1.61894948e-01],\n",
       "       [6.86958930e-04, 9.99313041e-01],\n",
       "       [7.75447213e-05, 9.99922455e-01]])"
      ]
     },
     "execution_count": 113,
     "metadata": {},
     "output_type": "execute_result"
    }
   ],
   "source": [
    "y_test_pred"
   ]
  },
  {
   "cell_type": "code",
   "execution_count": 114,
   "id": "3b58b3a6",
   "metadata": {},
   "outputs": [
    {
     "data": {
      "text/plain": [
       "array([1.99999467e+00, 9.99994671e-01, 9.55858577e-01, 9.54678697e-01,\n",
       "       8.45626543e-01, 8.34618828e-01, 8.06554330e-01, 8.05885874e-01,\n",
       "       7.86455314e-01, 7.82802742e-01, 7.82314161e-01, 7.75436250e-01,\n",
       "       7.63314174e-01, 7.58840903e-01, 7.28827132e-01, 7.26535707e-01,\n",
       "       6.99626626e-01, 6.99049575e-01, 6.94157643e-01, 6.93522375e-01,\n",
       "       6.90544880e-01, 6.85061391e-01, 6.61705778e-01, 6.60687940e-01,\n",
       "       6.58745344e-01, 6.58718929e-01, 6.47302105e-01, 6.45698795e-01,\n",
       "       6.18761548e-01, 6.14505586e-01, 6.13418373e-01, 5.92741446e-01,\n",
       "       5.82129197e-01, 5.78889319e-01, 5.73453705e-01, 5.65155224e-01,\n",
       "       5.61018303e-01, 5.51656216e-01, 5.47753992e-01, 5.18420434e-01,\n",
       "       5.03782854e-01, 4.91731468e-01, 4.69311610e-01, 4.36977131e-01,\n",
       "       4.36106675e-01, 4.31589353e-01, 4.27100131e-01, 4.24136727e-01,\n",
       "       4.00572715e-01, 3.99291741e-01, 3.92372327e-01, 3.87457768e-01,\n",
       "       3.85569635e-01, 3.76192197e-01, 3.74035849e-01, 3.68079920e-01,\n",
       "       3.62682649e-01, 3.59434505e-01, 3.26602608e-01, 3.14652837e-01,\n",
       "       3.13020465e-01, 2.85677028e-01, 2.82514079e-01, 2.66182809e-01,\n",
       "       2.56856177e-01, 2.07233424e-01, 2.05417499e-01, 2.03441049e-01,\n",
       "       2.00959167e-01, 1.81510754e-01, 1.74643799e-01, 1.61894948e-01,\n",
       "       1.55491734e-01, 1.42696771e-01, 1.41712720e-01, 9.88048743e-02,\n",
       "       9.53998916e-02, 8.85496248e-02, 8.85432369e-02, 7.51893127e-02,\n",
       "       7.48241168e-02, 3.39799228e-02, 3.39315619e-02, 2.06827050e-02,\n",
       "       2.04493421e-02, 1.77694571e-02, 1.76866278e-02, 1.17611884e-04])"
      ]
     },
     "execution_count": 114,
     "metadata": {},
     "output_type": "execute_result"
    }
   ],
   "source": [
    "# Calculate the ROC Curve\n",
    "fpr, tpr, thresholds = roc_curve(y_test, y_test_pred[:,1])\n",
    "thresholds"
   ]
  },
  {
   "cell_type": "code",
   "execution_count": 115,
   "id": "c37c1af2",
   "metadata": {},
   "outputs": [],
   "source": [
    "# Plor ROC Curve\n",
    "def plot_roc_curve(fpr, tpr):\n",
    "    plt.plot(fpr, tpr, color='red', label='ROC')\n",
    "    plt.plot([0, 1], [0, 1], color='darkblue', linestyle='--')\n",
    "    plt.xlabel('False Positive Rate')\n",
    "    plt.ylabel('True Positive Rate')\n",
    "    plt.title('Receiver Operating Characteristic (ROC) Curve')\n",
    "    plt.legend()\n",
    "    plt.show()"
   ]
  },
  {
   "cell_type": "code",
   "execution_count": 116,
   "id": "4f7ba857",
   "metadata": {},
   "outputs": [
    {
     "data": {
      "image/png": "[encoded data removed]",
      "text/plain": [
       "<Figure size 432x288 with 1 Axes>"
      ]
     },
     "metadata": {
      "needs_background": "light"
     },
     "output_type": "display_data"
    }
   ],
   "source": [
    "plot_roc_curve(fpr,tpr)"
   ]
  },
  {
   "cell_type": "code",
   "execution_count": 117,
   "id": "f7b95de6",
   "metadata": {},
   "outputs": [
    {
     "data": {
      "text/plain": [
       "<sklearn.metrics._plot.roc_curve.RocCurveDisplay at 0x2017103c9d0>"
      ]
     },
     "execution_count": 117,
     "metadata": {},
     "output_type": "execute_result"
    },
    {
     "data": {
      "image/png": "[encoded data removed]",
      "text/plain": [
       "<Figure size 432x288 with 1 Axes>"
      ]
     },
     "metadata": {
      "needs_background": "light"
     },
     "output_type": "display_data"
    }
   ],
   "source": [
    "# Alternative way to plot ROC Curve - by using sklearn built in function\n",
    "RocCurveDisplay(fpr=fpr,tpr=tpr).plot()"
   ]
  },
  {
   "cell_type": "markdown",
   "id": "391f4a45",
   "metadata": {},
   "source": [
    "# 2. PR (Precision Recall) Curve \n",
    "\n",
    "* Precision-Recall is a useful measure of success of prediction when the classes are very imbalanced. Because for imbalanced classification with a severe skew and few examples of the minority class, the ROC AUC can be misleading. This is because a small number of correct or incorrect predictions can result in a large change in the ROC Curve or ROC AUC score.\n",
    "\n",
    "Precision = TP/(TP+FP)\n",
    "\n",
    "Recall = TP/(TP+FN)\n",
    "\n",
    "* the higher the AUC-PR score, the better a classifier performs "
   ]
  },
  {
   "cell_type": "code",
   "execution_count": 118,
   "id": "f38d59b2",
   "metadata": {},
   "outputs": [],
   "source": [
    "# Crteate syntethic imbalanced dataset where % of negative classes is 0.99 and % of positive classes = 0.01\n",
    "X,y = make_classification(n_samples = 2000 ,n_features=10, n_classes=2,weights=[0.99,0.01])"
   ]
  },
  {
   "cell_type": "code",
   "execution_count": 119,
   "id": "d5b88136",
   "metadata": {},
   "outputs": [],
   "source": [
    "# train test split\n",
    "X_train, X_test, y_train,y_test = train_test_split(X,y,test_size = 0.3,random_state=11)"
   ]
  },
  {
   "cell_type": "code",
   "execution_count": 120,
   "id": "ea36cd88",
   "metadata": {},
   "outputs": [
    {
     "name": "stdout",
     "output_type": "stream",
     "text": [
      "Logistic regression train roc-auc: 0.924087789017341\n",
      "Logistic regression test roc-auc: 0.8642601992855801\n"
     ]
    }
   ],
   "source": [
    "# apply logistic regression classifier\n",
    "log_model = LogisticRegression()\n",
    "log_model.fit(X_train,y_train)\n",
    "y_train_pred = log_model.predict_proba(X_train)\n",
    "print('Logistic regression train roc-auc: {}'.format(roc_auc_score(y_train, y_train_pred[:,1])))\n",
    "\n",
    "y_test_pred = log_model.predict_proba(X_test)\n",
    "print('Logistic regression test roc-auc: {}'.format(roc_auc_score(y_test, y_test_pred[:,1])))"
   ]
  },
  {
   "cell_type": "code",
   "execution_count": 121,
   "id": "705ccc57",
   "metadata": {},
   "outputs": [
    {
     "data": {
      "text/plain": [
       "array([1.52378848e+00, 5.23788477e-01, 4.87229676e-01, 2.93105931e-01,\n",
       "       1.45140693e-01, 1.35735595e-01, 1.04428916e-01, 9.40216871e-02,\n",
       "       1.97981090e-02, 1.91921692e-02, 1.53791863e-02, 1.53602491e-02,\n",
       "       1.15226005e-02, 1.13028749e-02, 6.80038230e-04, 6.35688867e-04,\n",
       "       2.72286398e-06])"
      ]
     },
     "execution_count": 121,
     "metadata": {},
     "output_type": "execute_result"
    }
   ],
   "source": [
    "# Calculate the ROC Curve\n",
    "fpr, tpr, thresholds = roc_curve(y_test, y_test_pred[:,1])\n",
    "thresholds"
   ]
  },
  {
   "cell_type": "code",
   "execution_count": 122,
   "id": "8d0eb3f6",
   "metadata": {},
   "outputs": [
    {
     "data": {
      "text/plain": [
       "<sklearn.metrics._plot.roc_curve.RocCurveDisplay at 0x20171122970>"
      ]
     },
     "execution_count": 122,
     "metadata": {},
     "output_type": "execute_result"
    },
    {
     "data": {
      "image/png": "[encoded data removed]",
      "text/plain": [
       "<Figure size 432x288 with 1 Axes>"
      ]
     },
     "metadata": {
      "needs_background": "light"
     },
     "output_type": "display_data"
    }
   ],
   "source": [
    "# Display ROC Curve\n",
    "RocCurveDisplay(fpr=fpr,tpr=tpr).plot()"
   ]
  },
  {
   "cell_type": "code",
   "execution_count": 123,
   "id": "c598ea6d",
   "metadata": {},
   "outputs": [],
   "source": [
    "# Calculate Precision Recall Curve\n",
    "prec, recall, thresholds = precision_recall_curve(y_test, y_test_pred[:,1])"
   ]
  },
  {
   "cell_type": "code",
   "execution_count": 124,
   "id": "298a8046",
   "metadata": {},
   "outputs": [
    {
     "data": {
      "text/plain": [
       "<sklearn.metrics._plot.precision_recall_curve.PrecisionRecallDisplay at 0x20171176520>"
      ]
     },
     "execution_count": 124,
     "metadata": {},
     "output_type": "execute_result"
    },
    {
     "data": {
      "image/png": "[encoded data removed]",
      "text/plain": [
       "<Figure size 432x288 with 1 Axes>"
      ]
     },
     "metadata": {
      "needs_background": "light"
     },
     "output_type": "display_data"
    }
   ],
   "source": [
    "# Display Precision Recall Curve\n",
    "PrecisionRecallDisplay(precision=prec, recall=recall).plot()"
   ]
  },
  {
   "cell_type": "code",
   "execution_count": null,
   "id": "eca98faa",
   "metadata": {},
   "outputs": [],
   "source": []
  },
  {
   "cell_type": "code",
   "execution_count": null,
   "id": "92253f09",
   "metadata": {},
   "outputs": [],
   "source": []
  }
 ],
 "metadata": {
  "kernelspec": {
   "display_name": "Python 3 (ipykernel)",
   "language": "python",
   "name": "python3"
  },
  "language_info": {
   "codemirror_mode": {
    "name": "ipython",
    "version": 3
   },
   "file_extension": ".py",
   "mimetype": "text/x-python",
   "name": "python",
   "nbconvert_exporter": "python",
   "pygments_lexer": "ipython3",
   "version": "3.9.12"
  }
 },
 "nbformat": 4,
 "nbformat_minor": 5
}
